{
 "cells": [
  {
   "cell_type": "markdown",
   "id": "eaa7bcd4-66c0-4764-afb2-dea2561fc270",
   "metadata": {},
   "source": [
    "# 04 Experiments Over Baseline 1\n",
    "In this notebook, I will be experimenting with models and fine-tuning that surpasses that of my baseline. The models I'll be experimenting with will be tailored to finance text, and they'll hopefully allow me to capture underlying tone and sentiment better than general-use models.\n",
    "\n",
    "*Note: This notebook will primarily be run in Google Colab, as I have signed up for Colab Pro and have access to faster GPUs than my local computer. The main reason why I couldn't use Colab previously was that WRDS could only be access from my local computer. However, with the data secured, that won't be a problem anymore."
   ]
  },
  {
   "cell_type": "code",
   "execution_count": null,
   "id": "260130a9-d27b-4387-b737-afaadcadf649",
   "metadata": {},
   "outputs": [],
   "source": []
  },
  {
   "cell_type": "code",
   "execution_count": null,
   "id": "9059322c-f90e-414d-9f0f-b9faa32cf664",
   "metadata": {},
   "outputs": [],
   "source": []
  },
  {
   "cell_type": "code",
   "execution_count": null,
   "id": "1c2a3d40-50e0-4a91-8daa-cafdea7ffd33",
   "metadata": {},
   "outputs": [],
   "source": []
  },
  {
   "cell_type": "code",
   "execution_count": null,
   "id": "19174e5f-2249-4318-be44-4de09de01a8b",
   "metadata": {},
   "outputs": [],
   "source": []
  }
 ],
 "metadata": {
  "kernelspec": {
   "display_name": "Python (venv-metal)",
   "language": "python",
   "name": "venv-metal"
  },
  "language_info": {
   "codemirror_mode": {
    "name": "ipython",
    "version": 3
   },
   "file_extension": ".py",
   "mimetype": "text/x-python",
   "name": "python",
   "nbconvert_exporter": "python",
   "pygments_lexer": "ipython3",
   "version": "3.12.7"
  }
 },
 "nbformat": 4,
 "nbformat_minor": 5
}
