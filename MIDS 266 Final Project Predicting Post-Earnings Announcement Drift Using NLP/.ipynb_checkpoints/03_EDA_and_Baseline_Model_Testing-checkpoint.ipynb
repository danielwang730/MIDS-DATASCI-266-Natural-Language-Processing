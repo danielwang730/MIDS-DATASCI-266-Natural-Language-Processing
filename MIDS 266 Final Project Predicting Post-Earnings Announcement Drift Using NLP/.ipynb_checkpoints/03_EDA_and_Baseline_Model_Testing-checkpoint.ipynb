{
 "cells": [
  {
   "cell_type": "markdown",
   "id": "8f7570c3-5cf0-46c5-a1ad-fd3c132b2566",
   "metadata": {},
   "source": [
    "# 03 EDA and Baseline Model Testing\n",
    "In this notebook, I will perform some basic EDA of my earnings transcripts, along with testing out some initial baseline models. I will be using pre-existing architecture, and then adding a classification layer on top of that. In the end, my goal is to get the model to predict whether the stock will move up or down in the next few days."
   ]
  },
  {
   "cell_type": "markdown",
   "id": "0322f862-49b1-4496-a8c6-914305d3372c",
   "metadata": {},
   "source": [
    "# Imports"
   ]
  },
  {
   "cell_type": "code",
   "execution_count": 1,
   "id": "d676a014-ba52-4416-bbaf-5be1e5b83b5d",
   "metadata": {},
   "outputs": [
    {
     "name": "stderr",
     "output_type": "stream",
     "text": [
      "[nltk_data] Downloading package punkt to\n",
      "[nltk_data]     /Users/danielwang/nltk_data...\n",
      "[nltk_data]   Package punkt is already up-to-date!\n"
     ]
    },
    {
     "data": {
      "text/plain": [
       "True"
      ]
     },
     "execution_count": 1,
     "metadata": {},
     "output_type": "execute_result"
    }
   ],
   "source": [
    "import pandas as pd\n",
    "import numpy as np\n",
    "import matplotlib.pyplot as plt\n",
    "import seaborn as sns\n",
    "from datetime import date\n",
    "from tqdm import tqdm\n",
    "import os\n",
    "import warnings\n",
    "\n",
    "import sklearn\n",
    "from sklearn.model_selection import train_test_split\n",
    "from sklearn.feature_extraction.text import CountVectorizer\n",
    "from sklearn.linear_model import LogisticRegression\n",
    "from sklearn.metrics import classification_report\n",
    "\n",
    "from gensim.models import Word2Vec\n",
    "import nltk\n",
    "from nltk.util import ngrams\n",
    "from nltk.tokenize import word_tokenize\n",
    "from collections import defaultdict, Counter\n",
    "import evaluate\n",
    "\n",
    "import tensorflow as tf\n",
    "from keras.models import Model\n",
    "from keras.layers import Input, Embedding, Lambda, Dense\n",
    "from tensorflow.keras.layers import TextVectorization\n",
    "from tensorflow.keras.preprocessing.text import Tokenizer\n",
    "from keras.preprocessing.sequence import pad_sequences\n",
    "\n",
    "import torch\n",
    "\n",
    "from datasets import Dataset, load_dataset\n",
    "\n",
    "from transformers import BertTokenizer, BertModel, BertForSequenceClassification\n",
    "from transformers import AutoTokenizer, AutoModel, AutoModelForSequenceClassification\n",
    "from transformers import TrainingArguments, Trainer\n",
    "\n",
    "nltk.download('punkt')"
   ]
  },
  {
   "cell_type": "markdown",
   "id": "4de998df-a2fe-494d-846c-e35084072c6e",
   "metadata": {},
   "source": [
    "## Loading in full dataset"
   ]
  },
  {
   "cell_type": "code",
   "execution_count": 34,
   "id": "a54a2733-829d-4415-bbf7-e7159be0a494",
   "metadata": {},
   "outputs": [
    {
     "data": {
      "text/plain": [
       "'/Users/danielwang/Desktop/Work stuff/Coding Stuff/Berkeley Github Stuff/MIDS-DATASCI-266-Natural-Language-Processing/MIDS 266 Final Project Predicting Post-Earnings Announcement Drift Using NLP'"
      ]
     },
     "execution_count": 34,
     "metadata": {},
     "output_type": "execute_result"
    }
   ],
   "source": [
    "os.getcwd()"
   ]
  },
  {
   "cell_type": "code",
   "execution_count": 3,
   "id": "7713e81c-9276-4ce0-946b-ff85e2f23913",
   "metadata": {
    "scrolled": true
   },
   "outputs": [
    {
     "data": {
      "text/html": [
       "<div>\n",
       "<style scoped>\n",
       "    .dataframe tbody tr th:only-of-type {\n",
       "        vertical-align: middle;\n",
       "    }\n",
       "\n",
       "    .dataframe tbody tr th {\n",
       "        vertical-align: top;\n",
       "    }\n",
       "\n",
       "    .dataframe thead th {\n",
       "        text-align: right;\n",
       "    }\n",
       "</style>\n",
       "<table border=\"1\" class=\"dataframe\">\n",
       "  <thead>\n",
       "    <tr style=\"text-align: right;\">\n",
       "      <th></th>\n",
       "      <th>Date</th>\n",
       "      <th>Next_biz_day</th>\n",
       "      <th>Company_name</th>\n",
       "      <th>Ticker</th>\n",
       "      <th>Word_count</th>\n",
       "      <th>Text</th>\n",
       "      <th>Open</th>\n",
       "      <th>Close</th>\n",
       "      <th>Close_1</th>\n",
       "      <th>Close_2</th>\n",
       "      <th>Close_5</th>\n",
       "      <th>Close_0_dir</th>\n",
       "      <th>Close_1_dir</th>\n",
       "      <th>Close_2_dir</th>\n",
       "      <th>Close_5_dir</th>\n",
       "    </tr>\n",
       "  </thead>\n",
       "  <tbody>\n",
       "    <tr>\n",
       "      <th>0</th>\n",
       "      <td>2015-01-06 21:30:00</td>\n",
       "      <td>2015-01-07</td>\n",
       "      <td>Micron Technology, Inc.</td>\n",
       "      <td>MU</td>\n",
       "      <td>5184</td>\n",
       "      <td>Good afternoon. My name is Karen, and I'll be ...</td>\n",
       "      <td>30.795428</td>\n",
       "      <td>31.352146</td>\n",
       "      <td>32.885567</td>\n",
       "      <td>32.748825</td>\n",
       "      <td>29.349901</td>\n",
       "      <td>1.0</td>\n",
       "      <td>1.0</td>\n",
       "      <td>1.0</td>\n",
       "      <td>0.0</td>\n",
       "    </tr>\n",
       "    <tr>\n",
       "      <th>1</th>\n",
       "      <td>2015-01-08 15:30:00</td>\n",
       "      <td>2015-01-09</td>\n",
       "      <td>Constellation Brands, Inc.</td>\n",
       "      <td>STZ</td>\n",
       "      <td>3188</td>\n",
       "      <td>Ladies and gentlemen, thank you for standing b...</td>\n",
       "      <td>92.797200</td>\n",
       "      <td>93.153008</td>\n",
       "      <td>92.831917</td>\n",
       "      <td>92.250504</td>\n",
       "      <td>96.849953</td>\n",
       "      <td>1.0</td>\n",
       "      <td>1.0</td>\n",
       "      <td>0.0</td>\n",
       "      <td>1.0</td>\n",
       "    </tr>\n",
       "    <tr>\n",
       "      <th>2</th>\n",
       "      <td>2015-01-12 22:00:00</td>\n",
       "      <td>2015-01-13</td>\n",
       "      <td>Alcoa Inc.</td>\n",
       "      <td>AA</td>\n",
       "      <td>7601</td>\n",
       "      <td>Good day, ladies and gentlemen, and welcome to...</td>\n",
       "      <td>37.120452</td>\n",
       "      <td>35.610390</td>\n",
       "      <td>33.694641</td>\n",
       "      <td>33.739716</td>\n",
       "      <td>35.880848</td>\n",
       "      <td>0.0</td>\n",
       "      <td>0.0</td>\n",
       "      <td>0.0</td>\n",
       "      <td>0.0</td>\n",
       "    </tr>\n",
       "    <tr>\n",
       "      <th>3</th>\n",
       "      <td>2015-01-14 13:30:00</td>\n",
       "      <td>2015-01-15</td>\n",
       "      <td>CSX Corporation</td>\n",
       "      <td>CSX</td>\n",
       "      <td>1909</td>\n",
       "      <td>Good morning, ladies and gentlemen, and welcom...</td>\n",
       "      <td>9.566863</td>\n",
       "      <td>9.651751</td>\n",
       "      <td>9.863967</td>\n",
       "      <td>9.773422</td>\n",
       "      <td>9.753616</td>\n",
       "      <td>1.0</td>\n",
       "      <td>1.0</td>\n",
       "      <td>1.0</td>\n",
       "      <td>1.0</td>\n",
       "    </tr>\n",
       "    <tr>\n",
       "      <th>4</th>\n",
       "      <td>2015-01-14 13:30:00</td>\n",
       "      <td>2015-01-15</td>\n",
       "      <td>JPMorgan Chase &amp; Co.</td>\n",
       "      <td>JPM</td>\n",
       "      <td>2758</td>\n",
       "      <td>Good morning, ladies and gentlemen, and welcom...</td>\n",
       "      <td>41.869368</td>\n",
       "      <td>41.313416</td>\n",
       "      <td>42.019623</td>\n",
       "      <td>41.854340</td>\n",
       "      <td>42.583084</td>\n",
       "      <td>0.0</td>\n",
       "      <td>1.0</td>\n",
       "      <td>0.0</td>\n",
       "      <td>1.0</td>\n",
       "    </tr>\n",
       "    <tr>\n",
       "      <th>...</th>\n",
       "      <td>...</td>\n",
       "      <td>...</td>\n",
       "      <td>...</td>\n",
       "      <td>...</td>\n",
       "      <td>...</td>\n",
       "      <td>...</td>\n",
       "      <td>...</td>\n",
       "      <td>...</td>\n",
       "      <td>...</td>\n",
       "      <td>...</td>\n",
       "      <td>...</td>\n",
       "      <td>...</td>\n",
       "      <td>...</td>\n",
       "      <td>...</td>\n",
       "      <td>...</td>\n",
       "    </tr>\n",
       "    <tr>\n",
       "      <th>17228</th>\n",
       "      <td>2024-12-19 16:00:00</td>\n",
       "      <td>2024-12-20</td>\n",
       "      <td>FactSet Research Systems Inc.</td>\n",
       "      <td>FDS</td>\n",
       "      <td>2585</td>\n",
       "      <td>Good day, and thank you for standing by. Welco...</td>\n",
       "      <td>482.339360</td>\n",
       "      <td>481.274323</td>\n",
       "      <td>487.067291</td>\n",
       "      <td>489.067993</td>\n",
       "      <td>480.438232</td>\n",
       "      <td>0.0</td>\n",
       "      <td>1.0</td>\n",
       "      <td>1.0</td>\n",
       "      <td>0.0</td>\n",
       "    </tr>\n",
       "    <tr>\n",
       "      <th>17229</th>\n",
       "      <td>2024-12-19 16:00:00</td>\n",
       "      <td>2024-12-20</td>\n",
       "      <td>Lennar Corporation</td>\n",
       "      <td>LEN</td>\n",
       "      <td>5361</td>\n",
       "      <td>Welcome to Lennar's Fourth Quarter Earnings Co...</td>\n",
       "      <td>131.804181</td>\n",
       "      <td>131.985794</td>\n",
       "      <td>131.909332</td>\n",
       "      <td>131.909332</td>\n",
       "      <td>130.188751</td>\n",
       "      <td>1.0</td>\n",
       "      <td>1.0</td>\n",
       "      <td>1.0</td>\n",
       "      <td>0.0</td>\n",
       "    </tr>\n",
       "    <tr>\n",
       "      <th>17230</th>\n",
       "      <td>2024-12-19 22:00:00</td>\n",
       "      <td>2024-12-20</td>\n",
       "      <td>NIKE, Inc.</td>\n",
       "      <td>NKE</td>\n",
       "      <td>4496</td>\n",
       "      <td>Good afternoon, everyone. Welcome to NIKE, Inc...</td>\n",
       "      <td>75.078526</td>\n",
       "      <td>76.047157</td>\n",
       "      <td>75.869247</td>\n",
       "      <td>75.898895</td>\n",
       "      <td>73.783737</td>\n",
       "      <td>1.0</td>\n",
       "      <td>1.0</td>\n",
       "      <td>1.0</td>\n",
       "      <td>0.0</td>\n",
       "    </tr>\n",
       "    <tr>\n",
       "      <th>17231</th>\n",
       "      <td>2024-12-19 22:30:00</td>\n",
       "      <td>2024-12-20</td>\n",
       "      <td>FedEx Corporation</td>\n",
       "      <td>FDX</td>\n",
       "      <td>5256</td>\n",
       "      <td>Good day, and welcome to the FedEx Fiscal Year...</td>\n",
       "      <td>290.526486</td>\n",
       "      <td>272.472351</td>\n",
       "      <td>265.831726</td>\n",
       "      <td>268.628265</td>\n",
       "      <td>277.235382</td>\n",
       "      <td>0.0</td>\n",
       "      <td>0.0</td>\n",
       "      <td>0.0</td>\n",
       "      <td>0.0</td>\n",
       "    </tr>\n",
       "    <tr>\n",
       "      <th>17232</th>\n",
       "      <td>2024-12-20 15:00:00</td>\n",
       "      <td>2024-12-23</td>\n",
       "      <td>Carnival Corporation &amp; plc</td>\n",
       "      <td>CCL</td>\n",
       "      <td>3091</td>\n",
       "      <td>Greetings, and welcome to the Carnival Corpora...</td>\n",
       "      <td>26.520000</td>\n",
       "      <td>25.730000</td>\n",
       "      <td>25.790001</td>\n",
       "      <td>25.660000</td>\n",
       "      <td>24.920000</td>\n",
       "      <td>0.0</td>\n",
       "      <td>0.0</td>\n",
       "      <td>0.0</td>\n",
       "      <td>0.0</td>\n",
       "    </tr>\n",
       "  </tbody>\n",
       "</table>\n",
       "<p>17233 rows × 15 columns</p>\n",
       "</div>"
      ],
      "text/plain": [
       "                      Date Next_biz_day                   Company_name Ticker  \\\n",
       "0      2015-01-06 21:30:00   2015-01-07        Micron Technology, Inc.     MU   \n",
       "1      2015-01-08 15:30:00   2015-01-09     Constellation Brands, Inc.    STZ   \n",
       "2      2015-01-12 22:00:00   2015-01-13                     Alcoa Inc.     AA   \n",
       "3      2015-01-14 13:30:00   2015-01-15                CSX Corporation    CSX   \n",
       "4      2015-01-14 13:30:00   2015-01-15           JPMorgan Chase & Co.    JPM   \n",
       "...                    ...          ...                            ...    ...   \n",
       "17228  2024-12-19 16:00:00   2024-12-20  FactSet Research Systems Inc.    FDS   \n",
       "17229  2024-12-19 16:00:00   2024-12-20             Lennar Corporation    LEN   \n",
       "17230  2024-12-19 22:00:00   2024-12-20                     NIKE, Inc.    NKE   \n",
       "17231  2024-12-19 22:30:00   2024-12-20              FedEx Corporation    FDX   \n",
       "17232  2024-12-20 15:00:00   2024-12-23     Carnival Corporation & plc    CCL   \n",
       "\n",
       "       Word_count                                               Text  \\\n",
       "0            5184  Good afternoon. My name is Karen, and I'll be ...   \n",
       "1            3188  Ladies and gentlemen, thank you for standing b...   \n",
       "2            7601  Good day, ladies and gentlemen, and welcome to...   \n",
       "3            1909  Good morning, ladies and gentlemen, and welcom...   \n",
       "4            2758  Good morning, ladies and gentlemen, and welcom...   \n",
       "...           ...                                                ...   \n",
       "17228        2585  Good day, and thank you for standing by. Welco...   \n",
       "17229        5361  Welcome to Lennar's Fourth Quarter Earnings Co...   \n",
       "17230        4496  Good afternoon, everyone. Welcome to NIKE, Inc...   \n",
       "17231        5256  Good day, and welcome to the FedEx Fiscal Year...   \n",
       "17232        3091  Greetings, and welcome to the Carnival Corpora...   \n",
       "\n",
       "             Open       Close     Close_1     Close_2     Close_5  \\\n",
       "0       30.795428   31.352146   32.885567   32.748825   29.349901   \n",
       "1       92.797200   93.153008   92.831917   92.250504   96.849953   \n",
       "2       37.120452   35.610390   33.694641   33.739716   35.880848   \n",
       "3        9.566863    9.651751    9.863967    9.773422    9.753616   \n",
       "4       41.869368   41.313416   42.019623   41.854340   42.583084   \n",
       "...           ...         ...         ...         ...         ...   \n",
       "17228  482.339360  481.274323  487.067291  489.067993  480.438232   \n",
       "17229  131.804181  131.985794  131.909332  131.909332  130.188751   \n",
       "17230   75.078526   76.047157   75.869247   75.898895   73.783737   \n",
       "17231  290.526486  272.472351  265.831726  268.628265  277.235382   \n",
       "17232   26.520000   25.730000   25.790001   25.660000   24.920000   \n",
       "\n",
       "       Close_0_dir  Close_1_dir  Close_2_dir  Close_5_dir  \n",
       "0              1.0          1.0          1.0          0.0  \n",
       "1              1.0          1.0          0.0          1.0  \n",
       "2              0.0          0.0          0.0          0.0  \n",
       "3              1.0          1.0          1.0          1.0  \n",
       "4              0.0          1.0          0.0          1.0  \n",
       "...            ...          ...          ...          ...  \n",
       "17228          0.0          1.0          1.0          0.0  \n",
       "17229          1.0          1.0          1.0          0.0  \n",
       "17230          1.0          1.0          1.0          0.0  \n",
       "17231          0.0          0.0          0.0          0.0  \n",
       "17232          0.0          0.0          0.0          0.0  \n",
       "\n",
       "[17233 rows x 15 columns]"
      ]
     },
     "execution_count": 3,
     "metadata": {},
     "output_type": "execute_result"
    }
   ],
   "source": [
    "# Retrieving just to double check it can load\n",
    "full_data_path = '/Users/danielwang/Desktop/Berkeley MIDS Stuff/Berkeley MIDS Summer 2025 Stuff/Berkeley MIDS DATASCI 266/Berkeley MIDS DATASCI 266 Project Material/SNP500_Transcripts_Price_2010_to_2024.csv'\n",
    "full_data = pd.read_csv(full_data_path, sep='|', index_col=0)\n",
    "\n",
    "full_data"
   ]
  },
  {
   "cell_type": "markdown",
   "id": "d056b707-316b-44ce-a199-4c5163832401",
   "metadata": {
    "jp-MarkdownHeadingCollapsed": true
   },
   "source": [
    "# EDA on Data\n",
    "I will be performing some basic EDA on my transcript dataset, analyzing text statistics and performing some ngram exploration."
   ]
  },
  {
   "cell_type": "markdown",
   "id": "26d1eda9-3e50-49ef-8d8d-583b6b7878d5",
   "metadata": {},
   "source": [
    "## Analyzing text statistics\n",
    "I'll start with just getting some string and word lengths (with their averages) and seeing if there's a large discrepancy between that. This way, we can get an initial sense of how many words are said, along with the length of the words and such.\n",
    "\n",
    "*Note: I used this [article](https://neptune.ai/blog/exploratory-data-analysis-natural-language-processing-tools#:~:text=Exploratory%20data%20analysis%20is%20one,Language%20Processing%20is%20no%20different) as guidance for the transcript analysis portion of my EDA."
   ]
  },
  {
   "cell_type": "code",
   "execution_count": 14,
   "id": "7570e44e-698d-433e-9a95-6d0a0805e387",
   "metadata": {},
   "outputs": [
    {
     "data": {
      "image/png": "[encoded data removed]",
      "text/plain": [
       "<Figure size 640x480 with 1 Axes>"
      ]
     },
     "metadata": {},
     "output_type": "display_data"
    }
   ],
   "source": [
    "# Getting the string length of my data\n",
    "plt.hist(full_data['Text'].str.len(), bins=50)\n",
    "plt.xlim(-1000, 60000)\n",
    "plt.xlabel('Number of Characters')\n",
    "plt.ylabel('Frequency')\n",
    "plt.title('Distribution of String Length Across Transcripts')\n",
    "\n",
    "plt.show()"
   ]
  },
  {
   "cell_type": "markdown",
   "id": "85964b4e-139e-4fd7-a305-b54ffa42d6dc",
   "metadata": {},
   "source": [
    "Aside from a few outliers, the string length seems mostly normally distributed.\n",
    "\n",
    "Next, for the word count, while we already have a word count feature from Capital IQ, let's see how closely it matches the actual word counts of the transcripts."
   ]
  },
  {
   "cell_type": "code",
   "execution_count": 21,
   "id": "5ce3d660-0bba-4c1d-b3d3-895c66495f3f",
   "metadata": {},
   "outputs": [
    {
     "data": {
      "image/png": "[encoded data removed]",
      "text/plain": [
       "<Figure size 640x480 with 1 Axes>"
      ]
     },
     "metadata": {},
     "output_type": "display_data"
    }
   ],
   "source": [
    "# Getting the distribution of word count feature\n",
    "plt.hist(full_data['Word_count'], bins=50)\n",
    "plt.xlim(-100, 10000)\n",
    "plt.xlabel('Word Count')\n",
    "plt.ylabel('Frequency')\n",
    "plt.title('Distribution of Word Count Feature Across Transcripts')\n",
    "\n",
    "plt.show()"
   ]
  },
  {
   "cell_type": "code",
   "execution_count": 22,
   "id": "c2b8dbb4-d592-485f-a692-e3222b3e8a92",
   "metadata": {},
   "outputs": [
    {
     "data": {
      "image/png": "[encoded data removed]",
      "text/plain": [
       "<Figure size 640x480 with 1 Axes>"
      ]
     },
     "metadata": {},
     "output_type": "display_data"
    }
   ],
   "source": [
    "# Getting the distribution of actual word count\n",
    "plt.hist(full_data['Text'].str.split().map(lambda x: len(x)), bins=50)\n",
    "plt.xlim(-100, 10000)\n",
    "plt.xlabel('Word Count')\n",
    "plt.ylabel('Frequency')\n",
    "plt.title('Distribution of Actual Word Count Across Transcripts')\n",
    "\n",
    "plt.show()"
   ]
  },
  {
   "cell_type": "markdown",
   "id": "c8b6049f-2350-4f57-9799-847d0488b93c",
   "metadata": {},
   "source": [
    "While it may be slightly off by a few words, the word count feature (again, from Capital IQ) does match our manual check.\n",
    "\n",
    "Next, let's check the average word length in each sentence."
   ]
  },
  {
   "cell_type": "code",
   "execution_count": 25,
   "id": "ba6c5af8-bb55-42ab-9498-63116a4ae985",
   "metadata": {},
   "outputs": [
    {
     "data": {
      "image/png": "[encoded data removed]",
      "text/plain": [
       "<Figure size 640x480 with 1 Axes>"
      ]
     },
     "metadata": {},
     "output_type": "display_data"
    }
   ],
   "source": [
    "# Checking the average word length in each transcript\n",
    "plt.hist(full_data['Text'].str.split().apply(lambda x : [len(i) for i in x]).map(lambda x: np.mean(x)))\n",
    "plt.xlabel('Word Length')\n",
    "plt.ylabel('Frequency')\n",
    "plt.title('Distribution of Average Word Length Across Transcripts')\n",
    "\n",
    "plt.grid()\n",
    "plt.show()"
   ]
  },
  {
   "cell_type": "markdown",
   "id": "83310e8f-12c8-44b9-a121-ffa2fdcf5f9c",
   "metadata": {},
   "source": [
    "As expected, the average word length in the transcript ranges from 4.4 to 6.0. This isn't too surprising as we're well within the Central Limit Theorem, but it's good to confirm that earnings call transcripts still follow the expected outcome.\n",
    "\n",
    "Next, let's take a look at the stopwords and see what comes up."
   ]
  },
  {
   "cell_type": "code",
   "execution_count": 34,
   "id": "a026a1ce-d693-4b67-bde6-20c7820108e6",
   "metadata": {},
   "outputs": [
    {
     "name": "stderr",
     "output_type": "stream",
     "text": [
      "[nltk_data] Downloading package stopwords to\n",
      "[nltk_data]     /Users/danielwang/nltk_data...\n",
      "[nltk_data]   Package stopwords is already up-to-date!\n"
     ]
    }
   ],
   "source": [
    "# Loading in the stopwords\n",
    "nltk.download('stopwords')\n",
    "stop = set(nltk.corpus.stopwords.words('english'))"
   ]
  },
  {
   "cell_type": "code",
   "execution_count": 38,
   "id": "91c230d9-0839-4084-97c4-009658de1ad1",
   "metadata": {},
   "outputs": [],
   "source": [
    "# Creating the corpus\n",
    "tscrpt = full_data['Text'].str.split()\n",
    "tscrpt = tscrpt.values.tolist()\n",
    "corpus = [word for i in tscrpt for word in i]\n",
    "\n",
    "dic = defaultdict(int)\n",
    "for word in corpus:\n",
    "    if word in stop:\n",
    "        dic[word] += 1"
   ]
  },
  {
   "cell_type": "code",
   "execution_count": 62,
   "id": "9e2a6814-22d8-4400-8786-264f639a97e4",
   "metadata": {},
   "outputs": [
    {
     "data": {
      "image/png": "[encoded data removed]",
      "text/plain": [
       "<Figure size 640x480 with 1 Axes>"
      ]
     },
     "metadata": {},
     "output_type": "display_data"
    }
   ],
   "source": [
    "# Visualizing the most common words\n",
    "stop_df = pd.DataFrame.from_dict(dic, orient='index')\n",
    "stop_df = stop_df.sort_values(by=0, ascending=False)\n",
    "\n",
    "# Getting a bar graph of the top 20 most common words\n",
    "plt.bar(stop_df.index[:20], stop_df[:20][0])\n",
    "plt.xlabel('Most Common Stopwords')\n",
    "plt.ylabel('Frequency')\n",
    "plt.title('Frequency of Common Stopwords')\n",
    "\n",
    "plt.show()"
   ]
  },
  {
   "cell_type": "markdown",
   "id": "3913e80a-0526-441d-a59a-bcf66a737486",
   "metadata": {},
   "source": [
    "There's nothing too surprising here, but let's now remove these words from the equation and see what other common words show up."
   ]
  },
  {
   "cell_type": "code",
   "execution_count": 81,
   "id": "81549bbe-edc0-4abb-919d-df24720a8d88",
   "metadata": {},
   "outputs": [
    {
     "data": {
      "image/png": "[encoded data removed]",
      "text/plain": [
       "<Figure size 640x480 with 1 Axes>"
      ]
     },
     "metadata": {},
     "output_type": "display_data"
    }
   ],
   "source": [
    "# Getting a counter of the common words (not in stopwords)\n",
    "counter = Counter(corpus)\n",
    "most = counter.most_common()\n",
    "\n",
    "# Adding additional words to stopwords\n",
    "additional_words = ['We', 'The', 'I', 'In', 'Our', 'And', 'As', 'also', 'This', 'Us', 'us']\n",
    "stop.update(additional_words)\n",
    "\n",
    "# Plotting the count of those common words\n",
    "x, y = [], []\n",
    "for word, count in most[:80]:\n",
    "    if word not in stop:\n",
    "        x.append(word)\n",
    "        y.append(count)\n",
    "\n",
    "sns.barplot(x=y, y=x)\n",
    "plt.show()"
   ]
  },
  {
   "cell_type": "markdown",
   "id": "7a0a01a2-2f0a-4ca5-81e9-746c8b82f277",
   "metadata": {},
   "source": [
    "This is more interesting. Firstly, we see general financial terms you would expect to hear from an earnings call - quarter, year, sales, business, million, billion, etc.. However, we can see that aside from those words, everything else is positive language - strong, increased, higher, etc.. This could indicate right off the bat that earnings calls are generally more positive, and that the companies' executive teams want to emphasize their successes.\n",
    "\n",
    "While this isn't surprising, it's a good sign that the language in these transcripts matches what we expect to see, and it indicates that we extracted and cleaned our data properly."
   ]
  },
  {
   "cell_type": "markdown",
   "id": "36b8db78-2ccd-48fa-957e-1382a3c6676c",
   "metadata": {},
   "source": [
    "## Ngram exploration\n",
    "We can take what we did a step further by analyzing the most common *phrases* in the transcripts. Specifically, we might be able to better understand the context in which common words were used by looking at the most frequent n-grams."
   ]
  },
  {
   "cell_type": "code",
   "execution_count": 98,
   "id": "ed114dfb-c5e3-464b-97dc-01ba2400919d",
   "metadata": {},
   "outputs": [],
   "source": [
    "# Defining a function to analyze top ngrams in our transcripts\n",
    "def get_top_ngram(corpus, top_num=10, n=None):\n",
    "    vec = CountVectorizer(ngram_range=(n, n)).fit(corpus)\n",
    "    bag_of_words = vec.transform(corpus)\n",
    "    sum_words = bag_of_words.sum(axis=0)\n",
    "    words_freq = [(word, sum_words[0, idx]) for word, idx in vec.vocabulary_.items()]\n",
    "    words_freq = sorted(words_freq, key=lambda x: x[1], reverse=True)\n",
    "    \n",
    "    return words_freq[:top_num]"
   ]
  },
  {
   "cell_type": "code",
   "execution_count": 101,
   "id": "81138f1d-a209-4fe4-b7b2-7e6e30c46697",
   "metadata": {},
   "outputs": [
    {
     "data": {
      "text/plain": [
       "<Axes: >"
      ]
     },
     "execution_count": 101,
     "metadata": {},
     "output_type": "execute_result"
    },
    {
     "data": {
      "image/png": "[encoded data removed]",
      "text/plain": [
       "<Figure size 640x480 with 1 Axes>"
      ]
     },
     "metadata": {},
     "output_type": "display_data"
    }
   ],
   "source": [
    "# Getting the top bigrams and plotting\n",
    "top_25_bigrams = get_top_ngram(full_data['Text'], 25, 2)\n",
    "x, y = map(list, zip(*top_25_bigrams))\n",
    "sns.barplot(x=y,y=x)"
   ]
  },
  {
   "cell_type": "markdown",
   "id": "1e3bf1a3-9567-4fc8-84ce-35cc6bef5f57",
   "metadata": {},
   "source": [
    "The bigrams don't tell us much, mainly because there are a lot of common phrases in there. Let's check if trigrams are better."
   ]
  },
  {
   "cell_type": "code",
   "execution_count": 102,
   "id": "00273b6a-42f1-467e-be43-f1a4f2dabbf2",
   "metadata": {},
   "outputs": [
    {
     "data": {
      "text/plain": [
       "<Axes: >"
      ]
     },
     "execution_count": 102,
     "metadata": {},
     "output_type": "execute_result"
    },
    {
     "data": {
      "image/png": "[encoded data removed]",
      "text/plain": [
       "<Figure size 640x480 with 1 Axes>"
      ]
     },
     "metadata": {},
     "output_type": "display_data"
    }
   ],
   "source": [
    "# Getting the top trigrams and plotting\n",
    "top_25_trigrams = get_top_ngram(full_data['Text'], 25, 3)\n",
    "x, y = map(list, zip(*top_25_trigrams))\n",
    "sns.barplot(x=y,y=x)"
   ]
  },
  {
   "cell_type": "markdown",
   "id": "a9ba9811-3990-4861-b117-3fc0101696fd",
   "metadata": {},
   "source": [
    "The trigrams do indeed tell us more, and we notice some expected financial phrases among the trigrams (i.e., talking about quarters, years, and cash flow). We likely won't get too much more information from the ngrams alone, but it's helpful to get a gauge of what baseline phrases are common across all earnings calls."
   ]
  },
  {
   "cell_type": "markdown",
   "id": "0b86ec31-0457-4dc7-8804-7e542dfcdf20",
   "metadata": {},
   "source": [
    "## Target variable exploration\n",
    "Now that we've explored our text, we can check the distribution of our target variables."
   ]
  },
  {
   "cell_type": "code",
   "execution_count": 132,
   "id": "f131aa4e-80c7-4cb8-9913-31f23644f139",
   "metadata": {},
   "outputs": [
    {
     "data": {
      "image/png": "[encoded data removed]",
      "text/plain": [
       "<Figure size 800x500 with 1 Axes>"
      ]
     },
     "metadata": {},
     "output_type": "display_data"
    }
   ],
   "source": [
    "# Counting 0s and 1s for each column\n",
    "target_columns = ['Close_0_dir', 'Close_1_dir', 'Close_2_dir', 'Close_5_dir']\n",
    "target_labels = ['0 Days', '1 Day', '2 Days', '5 Days']\n",
    "target_colors = ['#4C72B0', '#DD8452', '#55A868', '#C44E52']\n",
    "target_cols_0 = [full_data[col].value_counts().get(0, 0) for col in target_columns]\n",
    "target_cols_1 = [full_data[col].value_counts().get(1, 0) for col in target_columns]\n",
    "\n",
    "# Getting the positions of the x-axes\n",
    "bar_width = 0.2\n",
    "x_base_0 = 0\n",
    "x_base_1 = 1\n",
    "x_0 = [x_base_0 + i * bar_width for i in range(len(target_columns))]\n",
    "x_1 = [x_base_1 + i * bar_width for i in range(len(target_columns))]\n",
    "\n",
    "# Plotting the direction of the target variables\n",
    "plt.figure(figsize=(8, 5))\n",
    "for i in range(len(target_columns)):\n",
    "    plt.bar(x_0[i], target_cols_0[i], width=bar_width, color=target_colors[i], label=target_labels[i])\n",
    "    plt.bar(x_1[i], target_cols_1[i], width=bar_width, color=target_colors[i])\n",
    "\n",
    "# Adding x-ticks in the middle of each cluster\n",
    "xtick_positions = [x_base_0 + (len(target_columns)-1)*bar_width/2, x_base_1 + (len(target_columns)-1)*bar_width/2]\n",
    "plt.xticks(xtick_positions, ['Down', 'Up'])\n",
    "\n",
    "# Adding legend and labels\n",
    "plt.xlabel('Direction X Days After Entry')\n",
    "plt.ylabel('Count')\n",
    "plt.title('Comparing Price Movement Direction X Days After Entry')\n",
    "plt.legend(title='Time Horizon')\n",
    "plt.tight_layout()\n",
    "plt.show()"
   ]
  },
  {
   "cell_type": "markdown",
   "id": "6af8cfac-1add-422b-900f-47ecc5565142",
   "metadata": {},
   "source": [
    "This is quite interesting; it appears that as the time horizon increases, so do the number of upward-moving stocks (compared to the entry). This may, of course, simply be due to stock prices generally going upwards over time, especially for stocks in the S&P500. However, it could also be due to sentiment changes after earnings calls. For example, if the initial reaction of an earnings call was negative, the initial jump may be severe, but investors may come to realize that things weren't as bad as that initial reaction. Conversely, if the initial reaction of an earnings call was positive, investors may want to \"ride that high\" and continue focusing on the positives (while paying less attention to potentially underlying negative sentiment in the earnings call).\n",
    "\n",
    "Either way, this gives us a decent baseline of what target variable we want to use. Going with the 0-day time horizon (i.e., entering and exiting on the same day) will provide a more balanced class split. However, we may lose the predictive power that a longer time horizon may provide (since a longer time frame will allow the post-earnings price movement to stabilize into a true direction). Therefore, we'll stick with a time horizon of 5 days, meaning that we'll **predict the movement of the stock one week after we enter**. *(Note that this will allows us to measure the drift - and deliberately avoid measuring the initial jump - since our entry is always the day after the earnings call)*"
   ]
  },
  {
   "cell_type": "markdown",
   "id": "08d4a7f3-ac78-4073-a1e9-bd4d46e7d65c",
   "metadata": {},
   "source": [
    "# Baseline Models\n",
    "We'll start with a few baseline models, notably, a most-common-class predictor and a DAN model."
   ]
  },
  {
   "cell_type": "markdown",
   "id": "c35c2121-cd67-4f9f-98c1-77cf475b1751",
   "metadata": {},
   "source": [
    "## Limiting the data to only the text and the chosen outcome variable\n",
    "To run the models, I really only need the columns containing the text and the outcome variable. Since our model is not autoregressive - and we're essentially just doing classification - the dates and times don't matter for us. We'll end up randomizing our train and test sets, and we're ultimately just trying to predict the stock price drift after *any* earnings call, regardless of time or stock."
   ]
  },
  {
   "cell_type": "code",
   "execution_count": 4,
   "id": "cfdf3728-8469-4f8f-ad7d-4ab5f0cf9878",
   "metadata": {},
   "outputs": [
    {
     "data": {
      "text/html": [
       "<div>\n",
       "<style scoped>\n",
       "    .dataframe tbody tr th:only-of-type {\n",
       "        vertical-align: middle;\n",
       "    }\n",
       "\n",
       "    .dataframe tbody tr th {\n",
       "        vertical-align: top;\n",
       "    }\n",
       "\n",
       "    .dataframe thead th {\n",
       "        text-align: right;\n",
       "    }\n",
       "</style>\n",
       "<table border=\"1\" class=\"dataframe\">\n",
       "  <thead>\n",
       "    <tr style=\"text-align: right;\">\n",
       "      <th></th>\n",
       "      <th>Text</th>\n",
       "      <th>Close_5_dir</th>\n",
       "    </tr>\n",
       "  </thead>\n",
       "  <tbody>\n",
       "    <tr>\n",
       "      <th>0</th>\n",
       "      <td>Good afternoon. My name is Karen, and I'll be ...</td>\n",
       "      <td>0.0</td>\n",
       "    </tr>\n",
       "    <tr>\n",
       "      <th>1</th>\n",
       "      <td>Ladies and gentlemen, thank you for standing b...</td>\n",
       "      <td>1.0</td>\n",
       "    </tr>\n",
       "    <tr>\n",
       "      <th>2</th>\n",
       "      <td>Good day, ladies and gentlemen, and welcome to...</td>\n",
       "      <td>0.0</td>\n",
       "    </tr>\n",
       "    <tr>\n",
       "      <th>3</th>\n",
       "      <td>Good morning, ladies and gentlemen, and welcom...</td>\n",
       "      <td>1.0</td>\n",
       "    </tr>\n",
       "    <tr>\n",
       "      <th>4</th>\n",
       "      <td>Good morning, ladies and gentlemen, and welcom...</td>\n",
       "      <td>1.0</td>\n",
       "    </tr>\n",
       "    <tr>\n",
       "      <th>...</th>\n",
       "      <td>...</td>\n",
       "      <td>...</td>\n",
       "    </tr>\n",
       "    <tr>\n",
       "      <th>17228</th>\n",
       "      <td>Good day, and thank you for standing by. Welco...</td>\n",
       "      <td>0.0</td>\n",
       "    </tr>\n",
       "    <tr>\n",
       "      <th>17229</th>\n",
       "      <td>Welcome to Lennar's Fourth Quarter Earnings Co...</td>\n",
       "      <td>0.0</td>\n",
       "    </tr>\n",
       "    <tr>\n",
       "      <th>17230</th>\n",
       "      <td>Good afternoon, everyone. Welcome to NIKE, Inc...</td>\n",
       "      <td>0.0</td>\n",
       "    </tr>\n",
       "    <tr>\n",
       "      <th>17231</th>\n",
       "      <td>Good day, and welcome to the FedEx Fiscal Year...</td>\n",
       "      <td>0.0</td>\n",
       "    </tr>\n",
       "    <tr>\n",
       "      <th>17232</th>\n",
       "      <td>Greetings, and welcome to the Carnival Corpora...</td>\n",
       "      <td>0.0</td>\n",
       "    </tr>\n",
       "  </tbody>\n",
       "</table>\n",
       "<p>17233 rows × 2 columns</p>\n",
       "</div>"
      ],
      "text/plain": [
       "                                                    Text  Close_5_dir\n",
       "0      Good afternoon. My name is Karen, and I'll be ...          0.0\n",
       "1      Ladies and gentlemen, thank you for standing b...          1.0\n",
       "2      Good day, ladies and gentlemen, and welcome to...          0.0\n",
       "3      Good morning, ladies and gentlemen, and welcom...          1.0\n",
       "4      Good morning, ladies and gentlemen, and welcom...          1.0\n",
       "...                                                  ...          ...\n",
       "17228  Good day, and thank you for standing by. Welco...          0.0\n",
       "17229  Welcome to Lennar's Fourth Quarter Earnings Co...          0.0\n",
       "17230  Good afternoon, everyone. Welcome to NIKE, Inc...          0.0\n",
       "17231  Good day, and welcome to the FedEx Fiscal Year...          0.0\n",
       "17232  Greetings, and welcome to the Carnival Corpora...          0.0\n",
       "\n",
       "[17233 rows x 2 columns]"
      ]
     },
     "execution_count": 4,
     "metadata": {},
     "output_type": "execute_result"
    }
   ],
   "source": [
    "# Creating a new dataframe for just what we need\n",
    "model_df = full_data[['Text', 'Close_5_dir']].copy()\n",
    "\n",
    "model_df"
   ]
  },
  {
   "cell_type": "markdown",
   "id": "57c77a1a-4fdb-419c-be5d-9947e94cc929",
   "metadata": {
    "jp-MarkdownHeadingCollapsed": true
   },
   "source": [
    "## Most-common-class predictor\n",
    "In this baseline, we'll simply be predicting the most common class for every earnings call (which from our EDA above, will be the \"Up\" class)."
   ]
  },
  {
   "cell_type": "code",
   "execution_count": 151,
   "id": "f3e8ef1d-1751-4cb9-9935-5e909fa78f3d",
   "metadata": {},
   "outputs": [],
   "source": [
    "# Defining the most common class predictor\n",
    "def most_common_class_predictor(target_var):\n",
    "\n",
    "    # Simplying returning the first index of the value_counts() divided by the total\n",
    "    majority_class = target_var.value_counts().index[0]\n",
    "    majority_perc = target_var.value_counts().iloc[0] / len(target_var)\n",
    "\n",
    "    return (majority_class, majority_perc)"
   ]
  },
  {
   "cell_type": "code",
   "execution_count": 153,
   "id": "213ed3a4-ef23-49fd-b262-f40287d5d107",
   "metadata": {},
   "outputs": [
    {
     "name": "stdout",
     "output_type": "stream",
     "text": [
      "Most common class: 1.0\n",
      "Accuracy of most common class predictor: 0.5365867811756514\n"
     ]
    }
   ],
   "source": [
    "# Getting the majority class predictor and the percent accuracy\n",
    "majority_class, majority_accuracy = most_common_class_predictor(model_df['Close_5_dir'])\n",
    "\n",
    "print('Most common class:', majority_class)\n",
    "print('Accuracy of most common class predictor:', majority_accuracy)"
   ]
  },
  {
   "cell_type": "markdown",
   "id": "fd5c331b-83f8-44eb-8269-e7b45e0feead",
   "metadata": {},
   "source": [
    "As expected, the most common class (or majority class) is Class 1 (meaning \"Up\") for the 5 day time horizon, with a ~54% accuracy. This will be the absolute baseline that our models must beat, though hopefully it will perform much better than this."
   ]
  },
  {
   "cell_type": "markdown",
   "id": "2a45e86e-7ab6-4e07-9315-e70afccfcf92",
   "metadata": {},
   "source": [
    "## Deep averaging network model\n",
    "We'll now create our first NLP model - DAN (Deep Averaging Network) - and it will serve as a secondary baseline that will hopefully be an improvement over a simple majority class."
   ]
  },
  {
   "cell_type": "code",
   "execution_count": 15,
   "id": "1984761e-a000-4107-aeee-05b7b3965b2e",
   "metadata": {},
   "outputs": [],
   "source": [
    "# Preprocessing and tokenizing the text\n",
    "texts = model_df['Text'].astype(str).tolist()\n",
    "labels = model_df['Close_5_dir'].astype(int).values"
   ]
  },
  {
   "cell_type": "code",
   "execution_count": 16,
   "id": "18f23b02-0478-4ae2-ba5b-bfa500c16d01",
   "metadata": {},
   "outputs": [],
   "source": [
    "# Tokenizing each transcript\n",
    "tokenized_texts = [word_tokenize(t.lower()) for t in texts]\n",
    "\n",
    "# Training Word2Vec\n",
    "w2v_model = Word2Vec(sentences=tokenized_texts, vector_size=300, window=5, min_count=5, workers=4)"
   ]
  },
  {
   "cell_type": "code",
   "execution_count": 20,
   "id": "38513f5a-f17e-4737-8e83-02c8d9354e3e",
   "metadata": {},
   "outputs": [],
   "source": [
    "# Building the embedding matrix and vocab dict\n",
    "embedding_dim = w2v_model.vector_size\n",
    "word_index = {word: i+1 for i, word in enumerate(w2v_model.wv.index_to_key)}  # +1 because 0 is reserved\n",
    "word_index['[UNK]'] = len(word_index) + 1\n",
    "\n",
    "embedding_matrix = np.zeros((len(word_index) + 1, embedding_dim))\n",
    "for word, i in word_index.items():\n",
    "    if word in w2v_model.wv:\n",
    "        embedding_matrix[i] = w2v_model.wv[word]"
   ]
  },
  {
   "cell_type": "markdown",
   "id": "33b7f45a-a3f8-480c-909f-f4a2b8a20d83",
   "metadata": {},
   "source": [
    "This is where I'll have to make a concession. Because of the time it takes to create these sequences, I'll have to shorten it to 2,048. I will extend this when we move to later models, but this baseline will be based on a shorter sequence."
   ]
  },
  {
   "cell_type": "code",
   "execution_count": 40,
   "id": "8a0d51d3-fb60-4261-8f34-497449b1d723",
   "metadata": {},
   "outputs": [],
   "source": [
    "# Mapping words to IDs using vocab\n",
    "def text_to_sequence(text, word_index, max_len=2048):\n",
    "    tokens = word_tokenize(text.lower())\n",
    "    ids = [word_index.get(word, word_index['[UNK]']) for word in tokens]\n",
    "    return ids[:max_len]\n",
    "\n",
    "# Converting text to sequences\n",
    "sequences = [text_to_sequence(t, word_index) for t in texts]\n",
    "padded_sequences = pad_sequences(sequences, maxlen=2048, padding='post', truncating='post')"
   ]
  },
  {
   "cell_type": "code",
   "execution_count": 41,
   "id": "a71c24dc-c4ae-4bca-b813-7d64a93f0eb5",
   "metadata": {},
   "outputs": [],
   "source": [
    "# Splitting the data\n",
    "X_train, X_val, y_train, y_val = train_test_split(padded_sequences, labels, test_size=0.2, random_state=42)"
   ]
  },
  {
   "cell_type": "code",
   "execution_count": 42,
   "id": "eb515511-0697-466c-86c7-4db43e9a8fa9",
   "metadata": {},
   "outputs": [
    {
     "name": "stderr",
     "output_type": "stream",
     "text": [
      "/Users/danielwang/venv-metal/lib/python3.12/site-packages/keras/src/layers/core/embedding.py:90: UserWarning: Argument `input_length` is deprecated. Just remove it.\n",
      "  warnings.warn(\n"
     ]
    },
    {
     "data": {
      "text/html": [
       "<pre style=\"white-space:pre;overflow-x:auto;line-height:normal;font-family:Menlo,'DejaVu Sans Mono',consolas,'Courier New',monospace\"><span style=\"font-weight: bold\">Model: \"functional_1\"</span>\n",
       "</pre>\n"
      ],
      "text/plain": [
       "\u001b[1mModel: \"functional_1\"\u001b[0m\n"
      ]
     },
     "metadata": {},
     "output_type": "display_data"
    },
    {
     "data": {
      "text/html": [
       "<pre style=\"white-space:pre;overflow-x:auto;line-height:normal;font-family:Menlo,'DejaVu Sans Mono',consolas,'Courier New',monospace\">┏━━━━━━━━━━━━━━━━━━━━━━━━━━━━━━━━━┳━━━━━━━━━━━━━━━━━━━━━━━━┳━━━━━━━━━━━━━━━┓\n",
       "┃<span style=\"font-weight: bold\"> Layer (type)                    </span>┃<span style=\"font-weight: bold\"> Output Shape           </span>┃<span style=\"font-weight: bold\">       Param # </span>┃\n",
       "┡━━━━━━━━━━━━━━━━━━━━━━━━━━━━━━━━━╇━━━━━━━━━━━━━━━━━━━━━━━━╇━━━━━━━━━━━━━━━┩\n",
       "│ input_layer_3 (<span style=\"color: #0087ff; text-decoration-color: #0087ff\">InputLayer</span>)      │ (<span style=\"color: #00d7ff; text-decoration-color: #00d7ff\">None</span>, <span style=\"color: #00af00; text-decoration-color: #00af00\">2048</span>)           │             <span style=\"color: #00af00; text-decoration-color: #00af00\">0</span> │\n",
       "├─────────────────────────────────┼────────────────────────┼───────────────┤\n",
       "│ embedding_1 (<span style=\"color: #0087ff; text-decoration-color: #0087ff\">Embedding</span>)         │ (<span style=\"color: #00d7ff; text-decoration-color: #00d7ff\">None</span>, <span style=\"color: #00af00; text-decoration-color: #00af00\">2048</span>, <span style=\"color: #00af00; text-decoration-color: #00af00\">300</span>)      │    <span style=\"color: #00af00; text-decoration-color: #00af00\">16,127,700</span> │\n",
       "├─────────────────────────────────┼────────────────────────┼───────────────┤\n",
       "│ lambda_1 (<span style=\"color: #0087ff; text-decoration-color: #0087ff\">Lambda</span>)               │ (<span style=\"color: #00d7ff; text-decoration-color: #00d7ff\">None</span>, <span style=\"color: #00af00; text-decoration-color: #00af00\">300</span>)            │             <span style=\"color: #00af00; text-decoration-color: #00af00\">0</span> │\n",
       "├─────────────────────────────────┼────────────────────────┼───────────────┤\n",
       "│ dense_1 (<span style=\"color: #0087ff; text-decoration-color: #0087ff\">Dense</span>)                 │ (<span style=\"color: #00d7ff; text-decoration-color: #00d7ff\">None</span>, <span style=\"color: #00af00; text-decoration-color: #00af00\">1</span>)              │           <span style=\"color: #00af00; text-decoration-color: #00af00\">301</span> │\n",
       "└─────────────────────────────────┴────────────────────────┴───────────────┘\n",
       "</pre>\n"
      ],
      "text/plain": [
       "┏━━━━━━━━━━━━━━━━━━━━━━━━━━━━━━━━━┳━━━━━━━━━━━━━━━━━━━━━━━━┳━━━━━━━━━━━━━━━┓\n",
       "┃\u001b[1m \u001b[0m\u001b[1mLayer (type)                   \u001b[0m\u001b[1m \u001b[0m┃\u001b[1m \u001b[0m\u001b[1mOutput Shape          \u001b[0m\u001b[1m \u001b[0m┃\u001b[1m \u001b[0m\u001b[1m      Param #\u001b[0m\u001b[1m \u001b[0m┃\n",
       "┡━━━━━━━━━━━━━━━━━━━━━━━━━━━━━━━━━╇━━━━━━━━━━━━━━━━━━━━━━━━╇━━━━━━━━━━━━━━━┩\n",
       "│ input_layer_3 (\u001b[38;5;33mInputLayer\u001b[0m)      │ (\u001b[38;5;45mNone\u001b[0m, \u001b[38;5;34m2048\u001b[0m)           │             \u001b[38;5;34m0\u001b[0m │\n",
       "├─────────────────────────────────┼────────────────────────┼───────────────┤\n",
       "│ embedding_1 (\u001b[38;5;33mEmbedding\u001b[0m)         │ (\u001b[38;5;45mNone\u001b[0m, \u001b[38;5;34m2048\u001b[0m, \u001b[38;5;34m300\u001b[0m)      │    \u001b[38;5;34m16,127,700\u001b[0m │\n",
       "├─────────────────────────────────┼────────────────────────┼───────────────┤\n",
       "│ lambda_1 (\u001b[38;5;33mLambda\u001b[0m)               │ (\u001b[38;5;45mNone\u001b[0m, \u001b[38;5;34m300\u001b[0m)            │             \u001b[38;5;34m0\u001b[0m │\n",
       "├─────────────────────────────────┼────────────────────────┼───────────────┤\n",
       "│ dense_1 (\u001b[38;5;33mDense\u001b[0m)                 │ (\u001b[38;5;45mNone\u001b[0m, \u001b[38;5;34m1\u001b[0m)              │           \u001b[38;5;34m301\u001b[0m │\n",
       "└─────────────────────────────────┴────────────────────────┴───────────────┘\n"
      ]
     },
     "metadata": {},
     "output_type": "display_data"
    },
    {
     "data": {
      "text/html": [
       "<pre style=\"white-space:pre;overflow-x:auto;line-height:normal;font-family:Menlo,'DejaVu Sans Mono',consolas,'Courier New',monospace\"><span style=\"font-weight: bold\"> Total params: </span><span style=\"color: #00af00; text-decoration-color: #00af00\">16,128,001</span> (61.52 MB)\n",
       "</pre>\n"
      ],
      "text/plain": [
       "\u001b[1m Total params: \u001b[0m\u001b[38;5;34m16,128,001\u001b[0m (61.52 MB)\n"
      ]
     },
     "metadata": {},
     "output_type": "display_data"
    },
    {
     "data": {
      "text/html": [
       "<pre style=\"white-space:pre;overflow-x:auto;line-height:normal;font-family:Menlo,'DejaVu Sans Mono',consolas,'Courier New',monospace\"><span style=\"font-weight: bold\"> Trainable params: </span><span style=\"color: #00af00; text-decoration-color: #00af00\">301</span> (1.18 KB)\n",
       "</pre>\n"
      ],
      "text/plain": [
       "\u001b[1m Trainable params: \u001b[0m\u001b[38;5;34m301\u001b[0m (1.18 KB)\n"
      ]
     },
     "metadata": {},
     "output_type": "display_data"
    },
    {
     "data": {
      "text/html": [
       "<pre style=\"white-space:pre;overflow-x:auto;line-height:normal;font-family:Menlo,'DejaVu Sans Mono',consolas,'Courier New',monospace\"><span style=\"font-weight: bold\"> Non-trainable params: </span><span style=\"color: #00af00; text-decoration-color: #00af00\">16,127,700</span> (61.52 MB)\n",
       "</pre>\n"
      ],
      "text/plain": [
       "\u001b[1m Non-trainable params: \u001b[0m\u001b[38;5;34m16,127,700\u001b[0m (61.52 MB)\n"
      ]
     },
     "metadata": {},
     "output_type": "display_data"
    }
   ],
   "source": [
    "# Defining the MAX_SEQUENCE_LENGTH\n",
    "MAX_SEQUENCE_LENGTH = 2048\n",
    "\n",
    "# Building the model (with an untrainable embedding matrix)\n",
    "input_layer = Input(shape=(MAX_SEQUENCE_LENGTH,))\n",
    "embedding_layer = Embedding(input_dim=embedding_matrix.shape[0],\n",
    "                            output_dim=embedding_matrix.shape[1],\n",
    "                            embeddings_initializer=tf.keras.initializers.Constant(embedding_matrix),\n",
    "                            input_length=MAX_SEQUENCE_LENGTH,\n",
    "                            trainable=False)(input_layer)\n",
    "\n",
    "avg_layer = Lambda(lambda x: tf.reduce_mean(x, axis=1))(embedding_layer)\n",
    "output_layer = Dense(1, activation='sigmoid')(avg_layer)\n",
    "\n",
    "model = Model(inputs=input_layer, outputs=output_layer)\n",
    "model.compile(optimizer='adam', loss='binary_crossentropy', metrics=['accuracy'])\n",
    "model.summary()"
   ]
  },
  {
   "cell_type": "code",
   "execution_count": 43,
   "id": "566ec359-7ba4-401e-93a9-687dae6dd239",
   "metadata": {},
   "outputs": [
    {
     "name": "stdout",
     "output_type": "stream",
     "text": [
      "Epoch 1/5\n"
     ]
    },
    {
     "name": "stderr",
     "output_type": "stream",
     "text": [
      "2025-07-21 20:53:14.722622: I tensorflow/core/grappler/optimizers/custom_graph_optimizer_registry.cc:117] Plugin optimizer for device_type GPU is enabled.\n"
     ]
    },
    {
     "name": "stdout",
     "output_type": "stream",
     "text": [
      "\u001b[1m431/431\u001b[0m \u001b[32m━━━━━━━━━━━━━━━━━━━━\u001b[0m\u001b[37m\u001b[0m \u001b[1m4s\u001b[0m 6ms/step - accuracy: 0.5206 - loss: 0.6927 - val_accuracy: 0.5283 - val_loss: 0.6934\n",
      "Epoch 2/5\n",
      "\u001b[1m431/431\u001b[0m \u001b[32m━━━━━━━━━━━━━━━━━━━━\u001b[0m\u001b[37m\u001b[0m \u001b[1m2s\u001b[0m 6ms/step - accuracy: 0.5208 - loss: 0.6924 - val_accuracy: 0.5277 - val_loss: 0.6930\n",
      "Epoch 3/5\n",
      "\u001b[1m431/431\u001b[0m \u001b[32m━━━━━━━━━━━━━━━━━━━━\u001b[0m\u001b[37m\u001b[0m \u001b[1m2s\u001b[0m 6ms/step - accuracy: 0.5310 - loss: 0.6903 - val_accuracy: 0.5231 - val_loss: 0.6918\n",
      "Epoch 4/5\n",
      "\u001b[1m431/431\u001b[0m \u001b[32m━━━━━━━━━━━━━━━━━━━━\u001b[0m\u001b[37m\u001b[0m \u001b[1m2s\u001b[0m 6ms/step - accuracy: 0.5335 - loss: 0.6907 - val_accuracy: 0.5283 - val_loss: 0.6904\n",
      "Epoch 5/5\n",
      "\u001b[1m431/431\u001b[0m \u001b[32m━━━━━━━━━━━━━━━━━━━━\u001b[0m\u001b[37m\u001b[0m \u001b[1m2s\u001b[0m 6ms/step - accuracy: 0.5428 - loss: 0.6895 - val_accuracy: 0.5277 - val_loss: 0.6982\n"
     ]
    },
    {
     "data": {
      "text/plain": [
       "<keras.src.callbacks.history.History at 0x48e5a79e0>"
      ]
     },
     "execution_count": 43,
     "metadata": {},
     "output_type": "execute_result"
    }
   ],
   "source": [
    "# Training the model\n",
    "model.fit(np.array(X_train), np.array(y_train), validation_data=(np.array(X_val), np.array(y_val)), batch_size=32, epochs=5)"
   ]
  },
  {
   "cell_type": "markdown",
   "id": "489f72e6-fce4-4148-8084-d6da3d894907",
   "metadata": {},
   "source": [
    "Evidently, the DAN model did not do a good job at predicting the classes, as the training and validation accuracies hovered around 52-53%, which is actually worse than our majority class baseline with an accuracy of ~54%. One likely reason for this is that the averaging process dilutes the signal - specifically, averaging word embeddings across a long transcript (some of which exceeded 9000 tokens originally) can cause important words or phrases to lose their influence, resulting in a weak signal for classification. This leads to the next point, which is that we cut off significant portions of the transcript, which likely caused the model to underperform even further. A third reason why this model did not perform well is simply due to its limited capacity in understanding the text. In essence, the DAN architecture is quite simplistic, and it has no contextual or sequential understanding (which likely limited its ability to capture the nuanced patterns and underlying tone in earnings call transcripts).\n",
    "\n",
    "Nevertheless, this was a good baseline to establish, and we'll explore more advanced models with transformers or fine-tuned embeddings to better handle the length and complexity of the transcripts."
   ]
  },
  {
   "cell_type": "markdown",
   "id": "2e298fd3-e620-4dbb-bf02-b13eabbf9824",
   "metadata": {},
   "source": [
    "# Baseline ModernBERT Model\n",
    "While the final baseline being a ModernBERT model seems like a dramatic jump from our previous baselines, I believe ModernBERT will be the first \"good\" model in terms of performance (as we barely achieved over 50% accuracy previously).\n",
    "\n",
    "There are a few reasons why ModernBERT is a superior model, starting with the fact that it has a token input limit of 8,192, which should be more than sufficient to hold the majority of the transcript text. Secondly, BERT models like ModernBERT have contextual understanding of the text through the self-attention mechanism. This should be particularly valuable in earnings call transcripts, where the tone, implications, or sentiment may depend heavily on phrasing and local context. A third reason is that ModernBERT was trained on a large corpora and carries a broader general-purpose language understanding. Therefore, it might be able to perform better in a domain-specific setting like finance.\n",
    "\n",
    "Ultimately, I'll see how ModernBERT performs, and follow-up on this model afterward."
   ]
  },
  {
   "cell_type": "markdown",
   "id": "1a7629c5-0920-4930-a622-d3cf399bb08e",
   "metadata": {},
   "source": [
    "## Testing ModernBERT Model\n",
    "Just to make sure this model works for me, I'll run a test and see if I can get some results."
   ]
  },
  {
   "cell_type": "code",
   "execution_count": 5,
   "id": "0b792c8c-7c9e-4755-a26c-1b89e602c787",
   "metadata": {},
   "outputs": [
    {
     "name": "stdout",
     "output_type": "stream",
     "text": [
      "[PhysicalDevice(name='/physical_device:GPU:0', device_type='GPU')]\n"
     ]
    }
   ],
   "source": [
    "# Confirming that I see my GPU\n",
    "print(tf.config.list_physical_devices('GPU'))"
   ]
  },
  {
   "cell_type": "code",
   "execution_count": 6,
   "id": "8c1c6579-f4d3-448a-ab57-d65241b86f1a",
   "metadata": {},
   "outputs": [],
   "source": [
    "# Loading the ModernBERT model\n",
    "mbert_checkpoint = \"answerdotai/ModernBERT-base\"\n",
    "mbert_tokenizer = AutoTokenizer.from_pretrained(mbert_checkpoint)\n",
    "mbert_model = AutoModel.from_pretrained(mbert_checkpoint)"
   ]
  },
  {
   "cell_type": "code",
   "execution_count": 7,
   "id": "3e54f22c-175a-4edd-993b-5b35694b3ac0",
   "metadata": {},
   "outputs": [
    {
     "name": "stderr",
     "output_type": "stream",
     "text": [
      "Token indices sequence length is longer than the specified maximum sequence length for this model (9841 > 8192). Running this sequence through the model will result in indexing errors\n"
     ]
    },
    {
     "name": "stdout",
     "output_type": "stream",
     "text": [
      "{'input_ids': tensor([[50281,  8620,  1388,  ..., 14943,    32, 50282]]), 'attention_mask': tensor([[1, 1, 1,  ..., 1, 1, 1]])}\n",
      "torch.Size([1, 9841])\n"
     ]
    }
   ],
   "source": [
    "# Testing ModernBERT with the some earnings transcript data to make sure it can function properly\n",
    "tscrpt_1_text = model_df['Text'][2]\n",
    "\n",
    "# Getting the tokens\n",
    "mbert_inputs_tscrpt_1 = mbert_tokenizer(tscrpt_1_text, return_tensors=\"pt\")\n",
    "print(mbert_inputs_tscrpt_1)\n",
    "print(mbert_inputs_tscrpt_1.input_ids.shape)\n",
    "\n",
    "# Getting what the tokenizer feeds in\n",
    "mtokens_tscrpt_1 = mbert_tokenizer.tokenize(tscrpt_1_text)"
   ]
  },
  {
   "cell_type": "markdown",
   "id": "70b32384-b7ca-4b09-a039-af5a3209d092",
   "metadata": {},
   "source": [
    "While not always shown above, we did receive a warning that this transcript exceeds the token limit for ModernBERT. While this is fine for now, we need to be wary of this as we move forward."
   ]
  },
  {
   "cell_type": "code",
   "execution_count": 8,
   "id": "655886bb-b1e3-4ba8-a5f1-bfe6f5669a55",
   "metadata": {
    "scrolled": true
   },
   "outputs": [
    {
     "name": "stdout",
     "output_type": "stream",
     "text": [
      "embeddings.tok_embeddings.weight\n",
      "embeddings.norm.weight\n",
      "layers.0.attn.Wqkv.weight\n",
      "layers.0.attn.Wo.weight\n",
      "layers.0.mlp_norm.weight\n",
      "layers.0.mlp.Wi.weight\n",
      "layers.0.mlp.Wo.weight\n",
      "layers.1.attn_norm.weight\n",
      "layers.1.attn.Wqkv.weight\n",
      "layers.1.attn.Wo.weight\n",
      "layers.1.mlp_norm.weight\n",
      "layers.1.mlp.Wi.weight\n",
      "layers.1.mlp.Wo.weight\n",
      "layers.2.attn_norm.weight\n",
      "layers.2.attn.Wqkv.weight\n",
      "layers.2.attn.Wo.weight\n",
      "layers.2.mlp_norm.weight\n",
      "layers.2.mlp.Wi.weight\n",
      "layers.2.mlp.Wo.weight\n",
      "layers.3.attn_norm.weight\n",
      "layers.3.attn.Wqkv.weight\n",
      "layers.3.attn.Wo.weight\n",
      "layers.3.mlp_norm.weight\n",
      "layers.3.mlp.Wi.weight\n",
      "layers.3.mlp.Wo.weight\n",
      "layers.4.attn_norm.weight\n",
      "layers.4.attn.Wqkv.weight\n",
      "layers.4.attn.Wo.weight\n",
      "layers.4.mlp_norm.weight\n",
      "layers.4.mlp.Wi.weight\n",
      "layers.4.mlp.Wo.weight\n",
      "layers.5.attn_norm.weight\n",
      "layers.5.attn.Wqkv.weight\n",
      "layers.5.attn.Wo.weight\n",
      "layers.5.mlp_norm.weight\n",
      "layers.5.mlp.Wi.weight\n",
      "layers.5.mlp.Wo.weight\n",
      "layers.6.attn_norm.weight\n",
      "layers.6.attn.Wqkv.weight\n",
      "layers.6.attn.Wo.weight\n",
      "layers.6.mlp_norm.weight\n",
      "layers.6.mlp.Wi.weight\n",
      "layers.6.mlp.Wo.weight\n",
      "layers.7.attn_norm.weight\n",
      "layers.7.attn.Wqkv.weight\n",
      "layers.7.attn.Wo.weight\n",
      "layers.7.mlp_norm.weight\n",
      "layers.7.mlp.Wi.weight\n",
      "layers.7.mlp.Wo.weight\n",
      "layers.8.attn_norm.weight\n",
      "layers.8.attn.Wqkv.weight\n",
      "layers.8.attn.Wo.weight\n",
      "layers.8.mlp_norm.weight\n",
      "layers.8.mlp.Wi.weight\n",
      "layers.8.mlp.Wo.weight\n",
      "layers.9.attn_norm.weight\n",
      "layers.9.attn.Wqkv.weight\n",
      "layers.9.attn.Wo.weight\n",
      "layers.9.mlp_norm.weight\n",
      "layers.9.mlp.Wi.weight\n",
      "layers.9.mlp.Wo.weight\n",
      "layers.10.attn_norm.weight\n",
      "layers.10.attn.Wqkv.weight\n",
      "layers.10.attn.Wo.weight\n",
      "layers.10.mlp_norm.weight\n",
      "layers.10.mlp.Wi.weight\n",
      "layers.10.mlp.Wo.weight\n",
      "layers.11.attn_norm.weight\n",
      "layers.11.attn.Wqkv.weight\n",
      "layers.11.attn.Wo.weight\n",
      "layers.11.mlp_norm.weight\n",
      "layers.11.mlp.Wi.weight\n",
      "layers.11.mlp.Wo.weight\n",
      "layers.12.attn_norm.weight\n",
      "layers.12.attn.Wqkv.weight\n",
      "layers.12.attn.Wo.weight\n",
      "layers.12.mlp_norm.weight\n",
      "layers.12.mlp.Wi.weight\n",
      "layers.12.mlp.Wo.weight\n",
      "layers.13.attn_norm.weight\n",
      "layers.13.attn.Wqkv.weight\n",
      "layers.13.attn.Wo.weight\n",
      "layers.13.mlp_norm.weight\n",
      "layers.13.mlp.Wi.weight\n",
      "layers.13.mlp.Wo.weight\n",
      "layers.14.attn_norm.weight\n",
      "layers.14.attn.Wqkv.weight\n",
      "layers.14.attn.Wo.weight\n",
      "layers.14.mlp_norm.weight\n",
      "layers.14.mlp.Wi.weight\n",
      "layers.14.mlp.Wo.weight\n",
      "layers.15.attn_norm.weight\n",
      "layers.15.attn.Wqkv.weight\n",
      "layers.15.attn.Wo.weight\n",
      "layers.15.mlp_norm.weight\n",
      "layers.15.mlp.Wi.weight\n",
      "layers.15.mlp.Wo.weight\n",
      "layers.16.attn_norm.weight\n",
      "layers.16.attn.Wqkv.weight\n",
      "layers.16.attn.Wo.weight\n",
      "layers.16.mlp_norm.weight\n",
      "layers.16.mlp.Wi.weight\n",
      "layers.16.mlp.Wo.weight\n",
      "layers.17.attn_norm.weight\n",
      "layers.17.attn.Wqkv.weight\n",
      "layers.17.attn.Wo.weight\n",
      "layers.17.mlp_norm.weight\n",
      "layers.17.mlp.Wi.weight\n",
      "layers.17.mlp.Wo.weight\n",
      "layers.18.attn_norm.weight\n",
      "layers.18.attn.Wqkv.weight\n",
      "layers.18.attn.Wo.weight\n",
      "layers.18.mlp_norm.weight\n",
      "layers.18.mlp.Wi.weight\n",
      "layers.18.mlp.Wo.weight\n",
      "layers.19.attn_norm.weight\n",
      "layers.19.attn.Wqkv.weight\n",
      "layers.19.attn.Wo.weight\n",
      "layers.19.mlp_norm.weight\n",
      "layers.19.mlp.Wi.weight\n",
      "layers.19.mlp.Wo.weight\n",
      "layers.20.attn_norm.weight\n",
      "layers.20.attn.Wqkv.weight\n",
      "layers.20.attn.Wo.weight\n",
      "layers.20.mlp_norm.weight\n",
      "layers.20.mlp.Wi.weight\n",
      "layers.20.mlp.Wo.weight\n",
      "layers.21.attn_norm.weight\n",
      "layers.21.attn.Wqkv.weight\n",
      "layers.21.attn.Wo.weight\n",
      "layers.21.mlp_norm.weight\n",
      "layers.21.mlp.Wi.weight\n",
      "layers.21.mlp.Wo.weight\n",
      "final_norm.weight\n"
     ]
    }
   ],
   "source": [
    "# Checking the named parameters\n",
    "for name, param in mbert_model.named_parameters():\n",
    "    print(name)"
   ]
  },
  {
   "cell_type": "code",
   "execution_count": 9,
   "id": "1fe7616d-01d3-4806-af52-157e0fc0794a",
   "metadata": {},
   "outputs": [
    {
     "data": {
      "text/plain": [
       "BaseModelOutput(last_hidden_state=tensor([[[-0.1602,  0.0032, -1.1325,  ...,  0.0534,  0.3773,  0.0035],\n",
       "         [-0.4544,  0.7715,  0.3651,  ...,  1.0890, -0.9595, -0.2745],\n",
       "         [-0.6196, -0.3941,  0.3785,  ...,  1.8311,  0.4604, -0.4913],\n",
       "         ...,\n",
       "         [-0.7410, -0.7556,  0.0879,  ...,  0.2443, -0.1505,  0.5807],\n",
       "         [-1.1962,  0.1347,  0.5087,  ..., -0.4418, -0.3822, -1.7417],\n",
       "         [ 0.1623, -0.0426, -0.0304,  ...,  0.0601,  0.2260,  0.1928]]],\n",
       "       grad_fn=<NativeLayerNormBackward0>), hidden_states=None, attentions=None)"
      ]
     },
     "execution_count": 9,
     "metadata": {},
     "output_type": "execute_result"
    }
   ],
   "source": [
    "# Getting the ModernBERT outputs\n",
    "mbert_outputs_tscrpt_1 = mbert_model(**mbert_inputs_tscrpt_1)\n",
    "mbert_outputs_tscrpt_1"
   ]
  },
  {
   "cell_type": "code",
   "execution_count": 10,
   "id": "3fdb0c5d-7d03-4007-8f4d-c7bdd5c1343d",
   "metadata": {},
   "outputs": [
    {
     "data": {
      "text/plain": [
       "torch.Size([1, 9841, 768])"
      ]
     },
     "execution_count": 10,
     "metadata": {},
     "output_type": "execute_result"
    }
   ],
   "source": [
    "# Getting the shape\n",
    "mbert_outputs_tscrpt_1[0].shape"
   ]
  },
  {
   "cell_type": "markdown",
   "id": "2f030ec5-39d1-4fa8-a9f9-cc5ec3cc5f80",
   "metadata": {},
   "source": [
    "Now that we've confirmed that our model will work, we can start building the entire pipeline, including a final classification layer."
   ]
  },
  {
   "cell_type": "markdown",
   "id": "a69e83c2-423a-4097-b1d9-e2ba65377a1d",
   "metadata": {},
   "source": [
    "## ModernBERT classifier\n",
    "The ModernBERT model already has a classification layer, which makes it very helpful for us to simply use."
   ]
  },
  {
   "cell_type": "code",
   "execution_count": 22,
   "id": "19947007-1e11-4777-9b8c-71c158176a5e",
   "metadata": {
    "scrolled": true
   },
   "outputs": [
    {
     "name": "stderr",
     "output_type": "stream",
     "text": [
      "Some weights of ModernBertForSequenceClassification were not initialized from the model checkpoint at answerdotai/ModernBERT-base and are newly initialized: ['classifier.bias', 'classifier.weight']\n",
      "You should probably TRAIN this model on a down-stream task to be able to use it for predictions and inference.\n"
     ]
    },
    {
     "name": "stdout",
     "output_type": "stream",
     "text": [
      "model.embeddings.tok_embeddings.weight\n",
      "model.embeddings.norm.weight\n",
      "model.layers.0.attn.Wqkv.weight\n",
      "model.layers.0.attn.Wo.weight\n",
      "model.layers.0.mlp_norm.weight\n",
      "model.layers.0.mlp.Wi.weight\n",
      "model.layers.0.mlp.Wo.weight\n",
      "model.layers.1.attn_norm.weight\n",
      "model.layers.1.attn.Wqkv.weight\n",
      "model.layers.1.attn.Wo.weight\n",
      "model.layers.1.mlp_norm.weight\n",
      "model.layers.1.mlp.Wi.weight\n",
      "model.layers.1.mlp.Wo.weight\n",
      "model.layers.2.attn_norm.weight\n",
      "model.layers.2.attn.Wqkv.weight\n",
      "model.layers.2.attn.Wo.weight\n",
      "model.layers.2.mlp_norm.weight\n",
      "model.layers.2.mlp.Wi.weight\n",
      "model.layers.2.mlp.Wo.weight\n",
      "model.layers.3.attn_norm.weight\n",
      "model.layers.3.attn.Wqkv.weight\n",
      "model.layers.3.attn.Wo.weight\n",
      "model.layers.3.mlp_norm.weight\n",
      "model.layers.3.mlp.Wi.weight\n",
      "model.layers.3.mlp.Wo.weight\n",
      "model.layers.4.attn_norm.weight\n",
      "model.layers.4.attn.Wqkv.weight\n",
      "model.layers.4.attn.Wo.weight\n",
      "model.layers.4.mlp_norm.weight\n",
      "model.layers.4.mlp.Wi.weight\n",
      "model.layers.4.mlp.Wo.weight\n",
      "model.layers.5.attn_norm.weight\n",
      "model.layers.5.attn.Wqkv.weight\n",
      "model.layers.5.attn.Wo.weight\n",
      "model.layers.5.mlp_norm.weight\n",
      "model.layers.5.mlp.Wi.weight\n",
      "model.layers.5.mlp.Wo.weight\n",
      "model.layers.6.attn_norm.weight\n",
      "model.layers.6.attn.Wqkv.weight\n",
      "model.layers.6.attn.Wo.weight\n",
      "model.layers.6.mlp_norm.weight\n",
      "model.layers.6.mlp.Wi.weight\n",
      "model.layers.6.mlp.Wo.weight\n",
      "model.layers.7.attn_norm.weight\n",
      "model.layers.7.attn.Wqkv.weight\n",
      "model.layers.7.attn.Wo.weight\n",
      "model.layers.7.mlp_norm.weight\n",
      "model.layers.7.mlp.Wi.weight\n",
      "model.layers.7.mlp.Wo.weight\n",
      "model.layers.8.attn_norm.weight\n",
      "model.layers.8.attn.Wqkv.weight\n",
      "model.layers.8.attn.Wo.weight\n",
      "model.layers.8.mlp_norm.weight\n",
      "model.layers.8.mlp.Wi.weight\n",
      "model.layers.8.mlp.Wo.weight\n",
      "model.layers.9.attn_norm.weight\n",
      "model.layers.9.attn.Wqkv.weight\n",
      "model.layers.9.attn.Wo.weight\n",
      "model.layers.9.mlp_norm.weight\n",
      "model.layers.9.mlp.Wi.weight\n",
      "model.layers.9.mlp.Wo.weight\n",
      "model.layers.10.attn_norm.weight\n",
      "model.layers.10.attn.Wqkv.weight\n",
      "model.layers.10.attn.Wo.weight\n",
      "model.layers.10.mlp_norm.weight\n",
      "model.layers.10.mlp.Wi.weight\n",
      "model.layers.10.mlp.Wo.weight\n",
      "model.layers.11.attn_norm.weight\n",
      "model.layers.11.attn.Wqkv.weight\n",
      "model.layers.11.attn.Wo.weight\n",
      "model.layers.11.mlp_norm.weight\n",
      "model.layers.11.mlp.Wi.weight\n",
      "model.layers.11.mlp.Wo.weight\n",
      "model.layers.12.attn_norm.weight\n",
      "model.layers.12.attn.Wqkv.weight\n",
      "model.layers.12.attn.Wo.weight\n",
      "model.layers.12.mlp_norm.weight\n",
      "model.layers.12.mlp.Wi.weight\n",
      "model.layers.12.mlp.Wo.weight\n",
      "model.layers.13.attn_norm.weight\n",
      "model.layers.13.attn.Wqkv.weight\n",
      "model.layers.13.attn.Wo.weight\n",
      "model.layers.13.mlp_norm.weight\n",
      "model.layers.13.mlp.Wi.weight\n",
      "model.layers.13.mlp.Wo.weight\n",
      "model.layers.14.attn_norm.weight\n",
      "model.layers.14.attn.Wqkv.weight\n",
      "model.layers.14.attn.Wo.weight\n",
      "model.layers.14.mlp_norm.weight\n",
      "model.layers.14.mlp.Wi.weight\n",
      "model.layers.14.mlp.Wo.weight\n",
      "model.layers.15.attn_norm.weight\n",
      "model.layers.15.attn.Wqkv.weight\n",
      "model.layers.15.attn.Wo.weight\n",
      "model.layers.15.mlp_norm.weight\n",
      "model.layers.15.mlp.Wi.weight\n",
      "model.layers.15.mlp.Wo.weight\n",
      "model.layers.16.attn_norm.weight\n",
      "model.layers.16.attn.Wqkv.weight\n",
      "model.layers.16.attn.Wo.weight\n",
      "model.layers.16.mlp_norm.weight\n",
      "model.layers.16.mlp.Wi.weight\n",
      "model.layers.16.mlp.Wo.weight\n",
      "model.layers.17.attn_norm.weight\n",
      "model.layers.17.attn.Wqkv.weight\n",
      "model.layers.17.attn.Wo.weight\n",
      "model.layers.17.mlp_norm.weight\n",
      "model.layers.17.mlp.Wi.weight\n",
      "model.layers.17.mlp.Wo.weight\n",
      "model.layers.18.attn_norm.weight\n",
      "model.layers.18.attn.Wqkv.weight\n",
      "model.layers.18.attn.Wo.weight\n",
      "model.layers.18.mlp_norm.weight\n",
      "model.layers.18.mlp.Wi.weight\n",
      "model.layers.18.mlp.Wo.weight\n",
      "model.layers.19.attn_norm.weight\n",
      "model.layers.19.attn.Wqkv.weight\n",
      "model.layers.19.attn.Wo.weight\n",
      "model.layers.19.mlp_norm.weight\n",
      "model.layers.19.mlp.Wi.weight\n",
      "model.layers.19.mlp.Wo.weight\n",
      "model.layers.20.attn_norm.weight\n",
      "model.layers.20.attn.Wqkv.weight\n",
      "model.layers.20.attn.Wo.weight\n",
      "model.layers.20.mlp_norm.weight\n",
      "model.layers.20.mlp.Wi.weight\n",
      "model.layers.20.mlp.Wo.weight\n",
      "model.layers.21.attn_norm.weight\n",
      "model.layers.21.attn.Wqkv.weight\n",
      "model.layers.21.attn.Wo.weight\n",
      "model.layers.21.mlp_norm.weight\n",
      "model.layers.21.mlp.Wi.weight\n",
      "model.layers.21.mlp.Wo.weight\n",
      "model.final_norm.weight\n",
      "head.dense.weight\n",
      "head.norm.weight\n",
      "classifier.weight\n",
      "classifier.bias\n"
     ]
    }
   ],
   "source": [
    "# Getting the ModernBERT model with classification\n",
    "mbert_classification_model = AutoModelForSequenceClassification.from_pretrained(mbert_checkpoint, num_labels=2)\n",
    "mbert_classification_model.config.problem_type = \"single_label_classification\"\n",
    "\n",
    "# Checking the named parameters\n",
    "for name, param in mbert_classification_model.named_parameters():\n",
    "    print(name)"
   ]
  },
  {
   "cell_type": "code",
   "execution_count": 12,
   "id": "36dfdb35-8375-4943-ac37-6667e2b0037a",
   "metadata": {},
   "outputs": [],
   "source": [
    "# Getting the max length for ModernBERT\n",
    "MAX_LEN = 8192\n",
    "\n",
    "# Defining a function to tokenize the text\n",
    "def tokenize_fn(texts):\n",
    "    return tokenizer(\n",
    "        texts,\n",
    "        padding='max_length',\n",
    "        truncation=True,\n",
    "        max_length=MAX_LEN,\n",
    "        return_tensors=\"pt\"\n",
    "    )"
   ]
  },
  {
   "cell_type": "code",
   "execution_count": 13,
   "id": "50dc29cb-26f4-45b5-a968-ba31d0bbd2f8",
   "metadata": {},
   "outputs": [],
   "source": [
    "# Splitting the data using train_test_split\n",
    "X_train, X_val, y_train, y_val = train_test_split(\n",
    "    model_df['Text'].tolist(),\n",
    "    model_df['Close_5_dir'].tolist(),\n",
    "    test_size=0.2,\n",
    "    random_state=42,\n",
    "    stratify=model_df['Close_5_dir']\n",
    ")\n",
    "\n",
    "# Converting to dictionaries\n",
    "train_dict = {'text': X_train, 'label': y_train}\n",
    "val_dict = {'text': X_val, 'label': y_val}\n",
    "\n",
    "# Creating HuggingFace Datasets\n",
    "train_dataset = Dataset.from_dict(train_dict)\n",
    "val_dataset = Dataset.from_dict(val_dict)"
   ]
  },
  {
   "cell_type": "code",
   "execution_count": 14,
   "id": "6ba723b6-d818-4fea-9ac5-d002ec61b9f1",
   "metadata": {},
   "outputs": [],
   "source": [
    "# Defining a function for computing the metrics\n",
    "metric = evaluate.load('accuracy')\n",
    "\n",
    "def compute_metrics(p):\n",
    "    predictions, labels = p\n",
    "    predictions = np.argmax(predictions, axis=1)\n",
    "    return metric.compute(predictions=predictions, references=labels)"
   ]
  },
  {
   "cell_type": "code",
   "execution_count": 15,
   "id": "e5290934-b2d0-454e-bfd4-0e7f939f9a5f",
   "metadata": {},
   "outputs": [],
   "source": [
    "# Defining a preprocessing transcripts function for my earnings data\n",
    "def preprocess_transcripts(data, tokenizer):\n",
    "    texts = data['text']\n",
    "    \n",
    "    encoded = tokenizer.batch_encode_plus(\n",
    "        texts,\n",
    "        max_length=MAX_LEN,\n",
    "        padding='max_length',\n",
    "        truncation=True,\n",
    "        return_attention_mask=True,\n",
    "        return_tensors=\"pt\"\n",
    "    )\n",
    "    return {\n",
    "    'input_ids': encoded['input_ids'],\n",
    "    'attention_mask': encoded['attention_mask'],\n",
    "    'label': data['label']\n",
    "    }"
   ]
  },
  {
   "cell_type": "code",
   "execution_count": 21,
   "id": "56412f69-47b4-405a-ab80-3b59352dde9d",
   "metadata": {},
   "outputs": [],
   "source": [
    "# Creating a ModernBERT classification model\n",
    "def fine_tune_classif_model_modernbert(classification_model,\n",
    "                                       tokenizer,\n",
    "                                       train_data,\n",
    "                                       dev_data,\n",
    "                                       layers_to_train=[\"classifier.\"],\n",
    "                                       max_sequence_length=8192,\n",
    "                                       batch_size=4,\n",
    "                                       num_epochs=2,\n",
    "                                       saved_output_dir=\"./modernbert_output_test\"):\n",
    "\n",
    "    # Getting the preprocessed data\n",
    "    preprocessed_train_data = train_data.map(preprocess_transcripts, batched=True, fn_kwargs={'tokenizer': tokenizer})\n",
    "    preprocessed_dev_data = dev_data.map(preprocess_transcripts, batched=True, fn_kwargs={'tokenizer': tokenizer})\n",
    "\n",
    "    # Freezing all model parameters except those explicitly listed\n",
    "    for name, param in classification_model.named_parameters():\n",
    "        if not any(x in name for x in layers_to_train):\n",
    "            param.requires_grad = False\n",
    "\n",
    "    training_args = TrainingArguments(\n",
    "        output_dir=saved_output_dir,\n",
    "        per_device_train_batch_size=batch_size,\n",
    "        per_device_eval_batch_size=batch_size,\n",
    "        num_train_epochs=num_epochs,\n",
    "        eval_strategy=\"epoch\",\n",
    "        save_strategy=\"epoch\",\n",
    "        report_to=\"none\"\n",
    "    )\n",
    "\n",
    "    trainer = Trainer(\n",
    "        model=classification_model,\n",
    "        args=training_args,\n",
    "        train_dataset=preprocessed_train_data,\n",
    "        eval_dataset=preprocessed_dev_data,\n",
    "        compute_metrics=compute_metrics\n",
    "    )\n",
    "\n",
    "    trainer.train()"
   ]
  },
  {
   "cell_type": "code",
   "execution_count": 33,
   "id": "4507d0b1-3ce9-4821-a897-87716d950584",
   "metadata": {},
   "outputs": [
    {
     "data": {
      "application/vnd.jupyter.widget-view+json": {
       "model_id": "9cc4da5dd5594ae5bc70697472dfa002",
       "version_major": 2,
       "version_minor": 0
      },
      "text/plain": [
       "Map:   0%|          | 0/800 [00:00<?, ? examples/s]"
      ]
     },
     "metadata": {},
     "output_type": "display_data"
    },
    {
     "data": {
      "application/vnd.jupyter.widget-view+json": {
       "model_id": "fd4ade3000d0446abada2397c092d644",
       "version_major": 2,
       "version_minor": 0
      },
      "text/plain": [
       "Map:   0%|          | 0/200 [00:00<?, ? examples/s]"
      ]
     },
     "metadata": {},
     "output_type": "display_data"
    },
    {
     "name": "stderr",
     "output_type": "stream",
     "text": [
      "/Users/danielwang/venv-metal/lib/python3.12/site-packages/torch/utils/data/dataloader.py:683: UserWarning: 'pin_memory' argument is set as true but not supported on MPS now, then device pinned memory won't be used.\n",
      "  warnings.warn(warn_msg)\n"
     ]
    },
    {
     "data": {
      "text/html": [
       "\n",
       "    <div>\n",
       "      \n",
       "      <progress value='800' max='800' style='width:300px; height:20px; vertical-align: middle;'></progress>\n",
       "      [800/800 1:02:09, Epoch 2/2]\n",
       "    </div>\n",
       "    <table border=\"1\" class=\"dataframe\">\n",
       "  <thead>\n",
       " <tr style=\"text-align: left;\">\n",
       "      <th>Epoch</th>\n",
       "      <th>Training Loss</th>\n",
       "      <th>Validation Loss</th>\n",
       "      <th>Accuracy</th>\n",
       "    </tr>\n",
       "  </thead>\n",
       "  <tbody>\n",
       "    <tr>\n",
       "      <td>1</td>\n",
       "      <td>No log</td>\n",
       "      <td>0.694410</td>\n",
       "      <td>0.525000</td>\n",
       "    </tr>\n",
       "    <tr>\n",
       "      <td>2</td>\n",
       "      <td>0.694000</td>\n",
       "      <td>0.694811</td>\n",
       "      <td>0.500000</td>\n",
       "    </tr>\n",
       "  </tbody>\n",
       "</table><p>"
      ],
      "text/plain": [
       "<IPython.core.display.HTML object>"
      ]
     },
     "metadata": {},
     "output_type": "display_data"
    },
    {
     "name": "stderr",
     "output_type": "stream",
     "text": [
      "/Users/danielwang/venv-metal/lib/python3.12/site-packages/torch/utils/data/dataloader.py:683: UserWarning: 'pin_memory' argument is set as true but not supported on MPS now, then device pinned memory won't be used.\n",
      "  warnings.warn(warn_msg)\n"
     ]
    }
   ],
   "source": [
    "# Getting some smaller testing data to make sure things work properly\n",
    "train_data_small = train_dataset.select(range(800))\n",
    "val_data_small = val_dataset.select(range(200))\n",
    "\n",
    "# Calling the fine-tuning function and training on the model\n",
    "fine_tune_classif_model_modernbert(\n",
    "    classification_model=mbert_classification_model,\n",
    "    tokenizer=mbert_tokenizer,\n",
    "    train_data=train_data_small,\n",
    "    dev_data=val_data_small,\n",
    "    layers_to_train=[\"classifier.\"],\n",
    "    max_sequence_length=MAX_LEN,\n",
    "    batch_size=2,\n",
    "    num_epochs=2,\n",
    "    saved_output_dir=\"./modernbert_output\"\n",
    ")"
   ]
  },
  {
   "cell_type": "markdown",
   "id": "40cd15c0-6380-41a6-a9f6-6850555d9048",
   "metadata": {},
   "source": [
    "Ultimately, not even the ModernBERT baseline produced great results, and now our goal should be to find more appropriate models, fine-tune this one, or try other strategies to improve the accuracy.\n",
    "\n",
    "I do want to point out, however, that this model was run with a less-than-ideal batch size and with fewer epochs than I would've liked. Furthermore, I used less than 10% of all the data I had, which also made the model less generalizable. Basically, due to the limitations that this model has, it might be more worth it to move onto something else. Additionally, even this simplified model took about an hour to run, it would've taken over 10x longer if I wanted to train on my whole dataset.\n",
    "\n",
    "Due to that finding, I will choose to run my following models on Google Colab (rather than from my local computer). Hopefully Colab Pro's enhanced GPUs will make everything run faster, and I'll start testing it out in the next notebook."
   ]
  },
  {
   "cell_type": "code",
   "execution_count": null,
   "id": "592de22c-379f-4871-a1ff-0c279c4d239d",
   "metadata": {},
   "outputs": [],
   "source": []
  }
 ],
 "metadata": {
  "kernelspec": {
   "display_name": "Python (venv-metal)",
   "language": "python",
   "name": "venv-metal"
  },
  "language_info": {
   "codemirror_mode": {
    "name": "ipython",
    "version": 3
   },
   "file_extension": ".py",
   "mimetype": "text/x-python",
   "name": "python",
   "nbconvert_exporter": "python",
   "pygments_lexer": "ipython3",
   "version": "3.12.7"
  }
 },
 "nbformat": 4,
 "nbformat_minor": 5
}
